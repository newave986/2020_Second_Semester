{
 "cells": [
  {
   "cell_type": "markdown",
   "metadata": {},
   "source": [
    "# Introduction to Python with Jupyter Notebook\n",
    "05-03-21 Introduction to Web and Text Mining (1)"
   ]
  },
  {
   "cell_type": "markdown",
   "metadata": {},
   "source": [
    "- Green Sell - Edit Mode\n",
    "- Blue Sell - Command Mode"
   ]
  },
  {
   "cell_type": "markdown",
   "metadata": {},
   "source": [
    "When you want to comment, use ```Markdown```\n",
    "- ```shift + enter```: run and go down to next sell\n",
    "- ```control + enter```: just run\n",
    "- ```control + /```: 선택한 셀 주석 처리"
   ]
  },
  {
   "cell_type": "code",
   "execution_count": 4,
   "metadata": {},
   "outputs": [
    {
     "name": "stdout",
     "output_type": "stream",
     "text": [
      "Python is fun!\n"
     ]
    }
   ],
   "source": [
    "head = \"Python\"\n",
    "# head = 'Python'\n",
    "tail = \" is fun!\"\n",
    "\n",
    "print(head + tail)"
   ]
  },
  {
   "cell_type": "code",
   "execution_count": 5,
   "metadata": {},
   "outputs": [
    {
     "name": "stdout",
     "output_type": "stream",
     "text": [
      "==================================================\n",
      "Python Program\n",
      "==================================================\n"
     ]
    }
   ],
   "source": [
    "print(\"=\" * 50)\n",
    "print(\"Python Program\")\n",
    "print(\"=\" * 50)"
   ]
  },
  {
   "cell_type": "code",
   "execution_count": 6,
   "metadata": {},
   "outputs": [
    {
     "data": {
      "text/plain": [
       "17"
      ]
     },
     "execution_count": 6,
     "metadata": {},
     "output_type": "execute_result"
    }
   ],
   "source": [
    "a = \"Life is too short\"\n",
    "len(a)"
   ]
  },
  {
   "cell_type": "code",
   "execution_count": 7,
   "metadata": {},
   "outputs": [
    {
     "name": "stdout",
     "output_type": "stream",
     "text": [
      "L s n\n",
      "Life\n"
     ]
    }
   ],
   "source": [
    "a = \"Life is too short, You need Python\"\n",
    "print(a[0], a[12], a[-1])\n",
    "\n",
    "b = a[0] + a[1] + a[2] + a[3]\n",
    "print(b)"
   ]
  },
  {
   "cell_type": "code",
   "execution_count": 8,
   "metadata": {
    "scrolled": true
   },
   "outputs": [
    {
     "name": "stdout",
     "output_type": "stream",
     "text": [
      "2\n"
     ]
    }
   ],
   "source": [
    "a = \"hobby\"\n",
    "print(a.count('b')) # \"b\"의 갯수를 출력"
   ]
  },
  {
   "cell_type": "code",
   "execution_count": 10,
   "metadata": {},
   "outputs": [
    {
     "name": "stdout",
     "output_type": "stream",
     "text": [
      "14\n",
      "-1\n",
      "2\n"
     ]
    },
    {
     "ename": "ValueError",
     "evalue": "substring not found",
     "output_type": "error",
     "traceback": [
      "\u001b[1;31m---------------------------------------------------------------------------\u001b[0m",
      "\u001b[1;31mValueError\u001b[0m                                Traceback (most recent call last)",
      "\u001b[1;32m<ipython-input-10-676a811d7520>\u001b[0m in \u001b[0;36m<module>\u001b[1;34m\u001b[0m\n\u001b[0;32m      3\u001b[0m \u001b[0mprint\u001b[0m\u001b[1;33m(\u001b[0m\u001b[0ma\u001b[0m\u001b[1;33m.\u001b[0m\u001b[0mfind\u001b[0m\u001b[1;33m(\u001b[0m\u001b[1;34m'k'\u001b[0m\u001b[1;33m)\u001b[0m\u001b[1;33m)\u001b[0m \u001b[1;31m# 불발 시 -1을 리턴\u001b[0m\u001b[1;33m\u001b[0m\u001b[1;33m\u001b[0m\u001b[0m\n\u001b[0;32m      4\u001b[0m \u001b[0mprint\u001b[0m\u001b[1;33m(\u001b[0m\u001b[0ma\u001b[0m\u001b[1;33m.\u001b[0m\u001b[0mindex\u001b[0m\u001b[1;33m(\u001b[0m\u001b[1;34m't'\u001b[0m\u001b[1;33m)\u001b[0m\u001b[1;33m)\u001b[0m\u001b[1;33m\u001b[0m\u001b[1;33m\u001b[0m\u001b[0m\n\u001b[1;32m----> 5\u001b[1;33m \u001b[0mprint\u001b[0m\u001b[1;33m(\u001b[0m\u001b[0ma\u001b[0m\u001b[1;33m.\u001b[0m\u001b[0mindex\u001b[0m\u001b[1;33m(\u001b[0m\u001b[1;34m'k'\u001b[0m\u001b[1;33m)\u001b[0m\u001b[1;33m)\u001b[0m \u001b[1;31m# 불발 시 에러를 출력\u001b[0m\u001b[1;33m\u001b[0m\u001b[1;33m\u001b[0m\u001b[0m\n\u001b[0m",
      "\u001b[1;31mValueError\u001b[0m: substring not found"
     ]
    }
   ],
   "source": [
    "a = \"Python is the best choice\"\n",
    "print(a.find('b'))\n",
    "print(a.find('k')) # 불발 시 -1을 리턴\n",
    "print(a.index('t'))\n",
    "print(a.index('k')) # 불발 시 에러를 출력"
   ]
  },
  {
   "cell_type": "code",
   "execution_count": 11,
   "metadata": {},
   "outputs": [
    {
     "name": "stdout",
     "output_type": "stream",
     "text": [
      "a,b,c,d\n",
      "HELLO\n",
      "world\n"
     ]
    }
   ],
   "source": [
    "# 문자열 삽입(join)\n",
    "x = \",\".join('abcd')\n",
    "print(x)\n",
    "# 소문자를 대문자로 바꾸기(upper)\n",
    "# 대문자를 소문자로 바꾸기(lower)\n",
    "a = \"hello\"\n",
    "b = \"WORLD\"\n",
    "print(a.upper())\n",
    "print(b.lower())"
   ]
  },
  {
   "cell_type": "code",
   "execution_count": 12,
   "metadata": {},
   "outputs": [
    {
     "name": "stdout",
     "output_type": "stream",
     "text": [
      "Your leg is too short\n",
      "['Life', 'is', 'too', 'short']\n",
      "['a', 'b', 'c', 'd']\n"
     ]
    },
    {
     "data": {
      "text/plain": [
       "list"
      ]
     },
     "execution_count": 12,
     "metadata": {},
     "output_type": "execute_result"
    }
   ],
   "source": [
    "# 문자열 바꾸기(replace)\n",
    "\n",
    "a = \"Life is too short\"\n",
    "a2 = a.replace(\"Life\", \"Your leg\")\n",
    "print(a2)\n",
    "\n",
    "# 문자열 바꾸기(split)\n",
    "b = \"Life-is-too-short\"\n",
    "b2 = b.split(\"-\")\n",
    "print(b2)\n",
    "\n",
    "c = \"a:b:c:d\"\n",
    "c2 = c.split(\":\")\n",
    "print(c2)\n",
    "type(c2) # 리스트로 반환된다"
   ]
  },
  {
   "cell_type": "code",
   "execution_count": 13,
   "metadata": {},
   "outputs": [],
   "source": [
    "a = [10, 20, 30, 40, 50]"
   ]
  },
  {
   "cell_type": "code",
   "execution_count": 14,
   "metadata": {},
   "outputs": [
    {
     "name": "stdout",
     "output_type": "stream",
     "text": [
      "a[0] =  10  a[1] =  20  a[4] =  50\n",
      "\n",
      "\n",
      "a[-1] =  20  a[-2] =  40  a[-5] =  10\n"
     ]
    }
   ],
   "source": [
    "print(\"a[0] = \", a[0], \" a[1] = \", a[1], \" a[4] = \", a[4])\n",
    "print(\"\\n\")\n",
    "print(\"a[-1] = \", a[1], \" a[-2] = \", a[-2], \" a[-5] = \", a[-5])"
   ]
  },
  {
   "cell_type": "code",
   "execution_count": 15,
   "metadata": {},
   "outputs": [],
   "source": [
    "b = [10, 20, \"Hello\", \"World\", [True, 3.14]]"
   ]
  },
  {
   "cell_type": "code",
   "execution_count": 16,
   "metadata": {},
   "outputs": [
    {
     "name": "stdout",
     "output_type": "stream",
     "text": [
      "b[2] =  Hello  b[3] =  World  b[4] =  [True, 3.14]\n",
      "\n",
      "\n",
      "b[-1][-1] =  3.14  b[-1][-2] =  True\n"
     ]
    }
   ],
   "source": [
    "print(\"b[2] = \", b[2], \" b[3] = \", b[3], \" b[4] = \", b[4])\n",
    "print(\"\\n\")\n",
    "print(\"b[-1][-1] = \", b[-1][-1], \" b[-1][-2] = \", b[-1][-2])"
   ]
  },
  {
   "cell_type": "code",
   "execution_count": 17,
   "metadata": {},
   "outputs": [],
   "source": [
    "c = []"
   ]
  },
  {
   "cell_type": "code",
   "execution_count": 18,
   "metadata": {},
   "outputs": [
    {
     "name": "stdout",
     "output_type": "stream",
     "text": [
      "[100, 200, 'Hello']\n"
     ]
    }
   ],
   "source": [
    "c.append(100), c.append(200), c.append(\"Hello\")\n",
    "print(c)"
   ]
  },
  {
   "cell_type": "code",
   "execution_count": 19,
   "metadata": {},
   "outputs": [
    {
     "name": "stdout",
     "output_type": "stream",
     "text": [
      "[100, 200, 300, 'Hello']\n"
     ]
    }
   ],
   "source": [
    "c.insert(2, 300) # index 2에 300이라는 원소를 삽입\n",
    "print(c)"
   ]
  },
  {
   "cell_type": "code",
   "execution_count": 20,
   "metadata": {},
   "outputs": [],
   "source": [
    "a = [10, 20, 30, 40, 50]"
   ]
  },
  {
   "cell_type": "code",
   "execution_count": 23,
   "metadata": {},
   "outputs": [
    {
     "name": "stdout",
     "output_type": "stream",
     "text": [
      "a[0:2] =  [10, 20]  a[1:] =  [20, 30, 40, 50]\n",
      "\n",
      "\n",
      "a[:3] =  [10, 20, 30]  a[:-2] =  [10, 20, 30]\n",
      "\n",
      "\n",
      "a[:] =  [10, 20, 30, 40, 50]\n"
     ]
    }
   ],
   "source": [
    "print(\"a[0:2] = \", a[0:2], \" a[1:] = \", a[1:])\n",
    "print(\"\\n\")\n",
    "print(\"a[:3] = \", a[:3], \" a[:-2] = \", a[:-2])\n",
    "print(\"\\n\")\n",
    "print(\"a[:] = \", a[:])"
   ]
  },
  {
   "cell_type": "code",
   "execution_count": 24,
   "metadata": {},
   "outputs": [
    {
     "name": "stdout",
     "output_type": "stream",
     "text": [
      "수정 전 리스트 : [10, 20, 30, 40, 50]\n"
     ]
    }
   ],
   "source": [
    "a = [10, 20, 30, 40, 50]\n",
    "print(\"수정 전 리스트 :\", a)"
   ]
  },
  {
   "cell_type": "code",
   "execution_count": 25,
   "metadata": {},
   "outputs": [
    {
     "name": "stdout",
     "output_type": "stream",
     "text": [
      "수정 후 리스트 : [10, 20, 700, 40, 50]\n"
     ]
    }
   ],
   "source": [
    "a[2] = 700\n",
    "print(\"수정 후 리스트 :\", a)"
   ]
  },
  {
   "cell_type": "code",
   "execution_count": 26,
   "metadata": {},
   "outputs": [
    {
     "name": "stdout",
     "output_type": "stream",
     "text": [
      "5\n"
     ]
    }
   ],
   "source": [
    "print(len(a))"
   ]
  },
  {
   "cell_type": "code",
   "execution_count": null,
   "metadata": {},
   "outputs": [],
   "source": [
    "d = [50, 40, 30, 20, 10]"
   ]
  }
 ],
 "metadata": {
  "kernelspec": {
   "display_name": "Python 3",
   "language": "python",
   "name": "python3"
  },
  "language_info": {
   "codemirror_mode": {
    "name": "ipython",
    "version": 3
   },
   "file_extension": ".py",
   "mimetype": "text/x-python",
   "name": "python",
   "nbconvert_exporter": "python",
   "pygments_lexer": "ipython3",
   "version": "3.8.5"
  }
 },
 "nbformat": 4,
 "nbformat_minor": 4
}
